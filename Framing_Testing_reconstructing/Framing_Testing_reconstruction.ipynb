{
  "nbformat": 4,
  "nbformat_minor": 0,
  "metadata": {
    "accelerator": "GPU",
    "colab": {
      "name": "Framing_Testing_reconstruction.ipynb",
      "provenance": [],
      "collapsed_sections": []
    },
    "kernelspec": {
      "display_name": "Python 3",
      "language": "python",
      "name": "python3"
    },
    "language_info": {
      "codemirror_mode": {
        "name": "ipython",
        "version": 3
      },
      "file_extension": ".py",
      "mimetype": "text/x-python",
      "name": "python",
      "nbconvert_exporter": "python",
      "pygments_lexer": "ipython3",
      "version": "3.5.2"
    }
  },
  "cells": [
    {
      "cell_type": "code",
      "metadata": {
        "id": "tk28xpFxnAqa"
      },
      "source": [
        "from tensorflow.keras.backend import set_session\n",
        "import tensorflow as tf\n",
        "config = tf.ConfigProto()\n",
        "config.gpu_options.allow_growth = True  # dynamically grow the memory used on the GPU\n",
        "config.log_device_placement = True  # to log device placement (on which device the operation ran)sess = tf.Session(config=config)set_session(sess)\n",
        "sess = tf.Session(config=config)\n",
        "set_session(sess) "
      ],
      "execution_count": null,
      "outputs": []
    },
    {
      "cell_type": "code",
      "metadata": {
        "id": "vsbwmBwXSPsR"
      },
      "source": [
        "!pip install dlib"
      ],
      "execution_count": null,
      "outputs": []
    },
    {
      "cell_type": "code",
      "metadata": {
        "id": "9mityGx-SPsV"
      },
      "source": [
        "video_count=4\n",
        "import cv2\n",
        "import os \n",
        "import dlib\n",
        "import numpy as np\n",
        "p = \"../mmod_human_face_detector.dat\"\n",
        "cnn_face_detector = dlib.cnn_face_detection_model_v1(p)"
      ],
      "execution_count": null,
      "outputs": []
    },
    {
      "cell_type": "code",
      "metadata": {
        "id": "k6Fdz0RxSPsX"
      },
      "source": [
        "path= \"../Testing_Code/manoj_tiwary\"\n",
        "t=os.listdir(path)\n",
        "#t=t[6:]\n",
        "print(t[0])\n"
      ],
      "execution_count": null,
      "outputs": []
    },
    {
      "cell_type": "code",
      "metadata": {
        "id": "2HAjKCcRSPsY"
      },
      "source": [
        "for i in t:\n",
        "        #print(type(i))\n",
        "    try:\n",
        "        ##framing starts here.save the frames\n",
        "        vidcap = cv2.VideoCapture(path+i)\n",
        "        success,image = vidcap.read()\n",
        "        count = 0\n",
        "        success = True\n",
        "        os.mkdir('../Test_bezos/fake_video'+str(video_count))\n",
        "        frames_path=\"../Test_bezos/fake_video\"+str(video_count)+'/frames/'\n",
        "        os.mkdir(frames_path)\n",
        "        print(\"NOW FRAMING\")\n",
        "        while success:\n",
        "            cv2.imwrite(frames_path+'{:04d}.jpg'.format(count), image)     # save frame as JPEG file\n",
        "            success,image = vidcap.read()\n",
        "            print ('Read a new frame: ', success)\n",
        "            count += 1\n",
        "            print(count)\n",
        "        name=os.listdir(frames_path)\n",
        "        name.sort()\n",
        "        print(name)\n",
        "        k=0\n",
        "        prediction_folder_path=\"../Test_bezos/fake_video\"+str(video_count)+'/predictions/'\n",
        "        os.mkdir(prediction_folder_path)  \n",
        "        real_count=0\n",
        "        fake_count=0\n",
        "        print(\"NOW DETECTING\")\n",
        "        m=0\n",
        "        #Perform face detection\n",
        "        for t in name:\n",
        "            #try:\n",
        "            image=cv2.imread(frames_path+t)\n",
        "            if image is None:\n",
        "                print(\"Could not read input image\")\n",
        "                continue\n",
        "\n",
        "            faces_cnn = cnn_face_detector(image, 1)\n",
        "            if(len(faces_cnn)==0):\n",
        "                print(m)\n",
        "                continue\n",
        "            else:\n",
        "                for face in faces_cnn:\n",
        "\n",
        "                    x = face.rect.left()\n",
        "                    y = face.rect.top()\n",
        "                    w= face.rect.right() - x\n",
        "                    h= face.rect.bottom() - y\n",
        "                    break\n",
        "                y1 =y-50\n",
        "                y2= y+h+30\n",
        "                x1=x-15\n",
        "                x2=x+w+50\n",
        "\n",
        "                image1=image[y1:y2, x1:x2]\n",
        "                #print(image1)\n",
        "                #plt1.imshow(image1)\n",
        "                image1 = cv2.resize(image1,(299,299))\n",
        "                test_image=image1\n",
        "                test_image=test_image*(1./255)\n",
        "                test_image = np.expand_dims(test_image, axis = 0)\n",
        "                #Testing \n",
        "                result = model.predict(test_image)\n",
        "                print(result)\n",
        "                #printing Fake or real on eac frame\n",
        "                if(result[0][0]>=0.4):\n",
        "                    print(\"hi1\")\n",
        "                    cv2.rectangle(image, (x1,y1), (x2,y2), (0,255,0), 2)\n",
        "                    cv2.putText(image, 'REAL:'+str(result), (100, 100), cv2.FONT_HERSHEY_SIMPLEX, 1.0, (0,255, 0), lineType=cv2.LINE_AA) \n",
        "                    real_count+=1\n",
        "                    cv2.putText(image, 'REAL:'+str(real_count), (100, 500), cv2.FONT_HERSHEY_SIMPLEX, 1.0, (0,255, 0), lineType=cv2.LINE_AA) \n",
        "                    cv2.putText(image, 'FAKE:'+str(fake_count), (100, 550), cv2.FONT_HERSHEY_SIMPLEX, 1.0, (0,0,255), lineType=cv2.LINE_AA) \n",
        "                    cv2.imwrite(prediction_folder_path+t,image)\n",
        "                else:\n",
        "                    print(\"hi2\")\n",
        "                    cv2.rectangle(image, (x1,y1), (x2,y2), (0,0,255), 2)\n",
        "                    cv2.putText(image, 'FAKE:'+str(1-result), (100, 100), cv2.FONT_HERSHEY_SIMPLEX, 1.0, (0,0 ,255),lineType=cv2.LINE_AA)\n",
        "                    fake_count+=1\n",
        "                    cv2.putText(image, 'REAL:'+str(real_count), (100, 500), cv2.FONT_HERSHEY_SIMPLEX, 1.0, (0,255, 0), lineType=cv2.LINE_AA)\n",
        "                    cv2.putText(image, 'FAKE:'+str(fake_count), (100, 550), cv2.FONT_HERSHEY_SIMPLEX, 1.0, (0,0,255), lineType=cv2.LINE_AA) \n",
        "                    cv2.imwrite(prediction_folder_path+t,image)\n",
        "            k+=1\n",
        "            print(k)\n",
        "            #except:\n",
        "             #   continue\n",
        "        #Video Reconstruction\n",
        "        img_array = []\n",
        "        l=os.listdir(prediction_folder_path)\n",
        "        l.sort()\n",
        "        for filename in l:\n",
        "            try:    \n",
        "\n",
        "                img = cv2.imread(prediction_folder_path+filename)\n",
        "                height, width, layers = img.shape\n",
        "                height, width, layers = img.shape\n",
        "                size = (width,height)\n",
        "                img_array.append(img)\n",
        "            except:\n",
        "                continue\n",
        "        print(\"NOW RECONSTRUCTING\")\n",
        "        save_path='../Test_bezos/fake_video'+str(video_count)+'/'\n",
        "        out = cv2.VideoWriter(save_path+'fake_video'+str(video_count)+'.avi',cv2.VideoWriter_fourcc(*'DIVX'), 24, size)\n",
        "\n",
        "        for i in range(len(img_array)):\n",
        "            out.write(img_array[i])\n",
        "        out.release()\n",
        "        print(\"VIDEO COMPLETED:\"+str(video_count))\n",
        "        video_count+=1\n",
        "    except Exception as e:\n",
        "        print(e)\n",
        "        continue\n",
        "\n"
      ],
      "execution_count": null,
      "outputs": []
    }
  ]
}