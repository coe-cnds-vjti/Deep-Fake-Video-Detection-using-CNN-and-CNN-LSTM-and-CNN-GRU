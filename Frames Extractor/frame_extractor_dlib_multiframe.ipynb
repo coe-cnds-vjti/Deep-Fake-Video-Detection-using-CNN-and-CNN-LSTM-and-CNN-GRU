{
 "cells": [
  {
   "cell_type": "code",
   "execution_count": null,
   "metadata": {},
   "outputs": [],
   "source": [
    "!pip install dlib"
   ]
  },
  {
   "cell_type": "code",
   "execution_count": null,
   "metadata": {},
   "outputs": [],
   "source": [
    "import os\n",
    "os.environ[\"CUDA_DEVICE_ORDER\"] = \"PCI_BUS_ID\"\n",
    "os.environ[\"CUDA_VISIBLE_DEVICES\"] = \"0\" # Set to 0 if want to use 1st GPU, 1 if want to use 2nd GPU, etc."
   ]
  },
  {
   "cell_type": "code",
   "execution_count": null,
   "metadata": {},
   "outputs": [],
   "source": [
    "from pathlib import Path\n",
    "import os\n",
    "import cv2\n",
    "from matplotlib import pyplot as plt\n",
    "import numpy as np\n",
    "from tqdm import tqdm\n",
    "import shutil\n",
    "import time\n",
    "import dlib\n",
    "from random import shuffle"
   ]
  },
  {
   "cell_type": "code",
   "execution_count": null,
   "metadata": {},
   "outputs": [],
   "source": [
    "# https://github.com/davisking/dlib-models/raw/master/mmod_human_face_detector.dat.bz2\n",
    "detector = dlib.cnn_face_detection_model_v1(\"mmod_human_face_detector.dat\")"
   ]
  },
  {
   "cell_type": "code",
   "execution_count": null,
   "metadata": {},
   "outputs": [],
   "source": [
    "# Video Dataset should be in structure:\n",
    "\"\"\"\n",
    "DatasetName\n",
    "|\n",
    "|- train\n",
    "|    |- real\n",
    "|    |- fake\n",
    "|\n",
    "|- val\n",
    "|   |- real\n",
    "|   |- fake\n",
    "\"\"\""
   ]
  },
  {
   "cell_type": "code",
   "execution_count": null,
   "metadata": {},
   "outputs": [],
   "source": [
    "videos_path = 'PATH CONTAINING THE VIDEO DATASET/'\n",
    "output_path = 'PATH WHERE THE FACE DATASET SHOULD GO/'"
   ]
  },
  {
   "cell_type": "code",
   "execution_count": null,
   "metadata": {},
   "outputs": [],
   "source": [
    "for split in ['train/','val/']:\n",
    "    for label in ['real/','fake/']:\n",
    "        print(videos_path+split+label+': '+str(len([f for f in os.listdir(videos_path+split+label) if 'mp4' in f])))"
   ]
  },
  {
   "cell_type": "code",
   "execution_count": null,
   "metadata": {},
   "outputs": [],
   "source": [
    "for split in ['train/','val/']:\n",
    "    for label in ['real/','fake/']:\n",
    "        Path(output_path+split+label).mkdir(parents=True, exist_ok=True)"
   ]
  },
  {
   "cell_type": "code",
   "execution_count": null,
   "metadata": {},
   "outputs": [],
   "source": [
    "split = 'train/'\n",
    "label = 'real/'\n",
    "vidpath = videos_path + split + label\n",
    "folderpath = output_path + split + label\n",
    "videos = sorted(os.listdir(vidpath))\n",
    "shuffle(videos)\n",
    "videos = videos[:len([f for f in os.listdir(videos_path+split+'real/') if 'mp4' in f])]\n",
    "req_frames = 30\n",
    "scale = 1.3\n",
    "req_size = 200"
   ]
  },
  {
   "cell_type": "code",
   "execution_count": null,
   "metadata": {},
   "outputs": [],
   "source": [
    "logs_dict = {}"
   ]
  },
  {
   "cell_type": "code",
   "execution_count": null,
   "metadata": {},
   "outputs": [],
   "source": [
    "for video in tqdm(videos):\n",
    "    facepath = folderpath + video[:-4] + '/'\n",
    "    Path(facepath).mkdir(parents=True,exist_ok=True)\n",
    "    video_capture = cv2.VideoCapture(vidpath + video)\n",
    "    count = int(video_capture.get(cv2.CAP_PROP_FRAME_COUNT))\n",
    "    more_than_one = 0\n",
    "    no_faces = 0\n",
    "    out_of_frame = 0\n",
    "    done_frames = 0\n",
    "    img_size = -1\n",
    "    frame_number = 0\n",
    "    while True:\n",
    "        res, frame = video_capture.read()\n",
    "        if not res:\n",
    "            break\n",
    "        faceRects = detector(frame[:,:,::-1], 0)\n",
    "        if (len(faceRects)==0):\n",
    "            no_faces += 1\n",
    "            continue\n",
    "        if (len(faceRects)>1):\n",
    "            more_than_one += 1\n",
    "            continue\n",
    "        x1 = faceRects[0].rect.left()\n",
    "        y1 = faceRects[0].rect.top()\n",
    "        x2 = faceRects[0].rect.right()\n",
    "        y2 = faceRects[0].rect.bottom()\n",
    "        center = ((x1 + x2) // 2, (y1 + y2) // 2)\n",
    "        length = max(x2 - x1, y2 - y1)\n",
    "        x1 = center[0] - int(length*scale/2)\n",
    "        x2 = center[0] + int(length*scale/2)\n",
    "        y1 = center[1] - int(length*scale/2)\n",
    "        y2 = center[1] + int(length*scale/2)\n",
    "        if x1 < 0 or y1 < 0 or x2 > frame.shape[1] or y2 > frame.shape[0]:\n",
    "            out_of_frame += 1\n",
    "            continue\n",
    "        final=frame[y1:y2,x1:x2,::-1]\n",
    "        # Either resize images now or resize them during training\n",
    "        # final = cv2.resize(final,(req_size,req_size),interpolation = cv2.INTER_CUBIC)\n",
    "        plt.imsave(facepath+str(frame_number).zfill(2)+'.jpg',final)\n",
    "        frame_number += 1\n",
    "        done_frames += 1\n",
    "        if done_frames == req_frames:\n",
    "            img_size = y2-y1\n",
    "            break\n",
    "    logs_dict[video] = [more_than_one, no_faces, out_of_frame, img_size, done_frames]\n",
    "    video_capture.release()"
   ]
  },
  {
   "cell_type": "code",
   "execution_count": null,
   "metadata": {},
   "outputs": [],
   "source": [
    "import json"
   ]
  },
  {
   "cell_type": "code",
   "execution_count": null,
   "metadata": {},
   "outputs": [],
   "source": [
    "with open('dlib_30faces_{}{}_logs.json'.format(split[:-1],label[:-1]), 'w') as fp:\n",
    "    json.dump(logs_dict, fp)"
   ]
  }
 ],
 "metadata": {
  "kernelspec": {
   "display_name": "Python 3",
   "language": "python",
   "name": "python3"
  },
  "language_info": {
   "codemirror_mode": {
    "name": "ipython",
    "version": 3
   },
   "file_extension": ".py",
   "mimetype": "text/x-python",
   "name": "python",
   "nbconvert_exporter": "python",
   "pygments_lexer": "ipython3",
   "version": "3.7.4"
  }
 },
 "nbformat": 4,
 "nbformat_minor": 2
}
