{
  "nbformat": 4,
  "nbformat_minor": 0,
  "metadata": {
    "kernelspec": {
      "display_name": "Python 3",
      "language": "python",
      "name": "python3"
    },
    "language_info": {
      "codemirror_mode": {
        "name": "ipython",
        "version": 3
      },
      "file_extension": ".py",
      "mimetype": "text/x-python",
      "name": "python",
      "nbconvert_exporter": "python",
      "pygments_lexer": "ipython3",
      "version": "3.5.2"
    },
    "colab": {
      "name": "Multiframe.ipynb",
      "provenance": [],
      "collapsed_sections": []
    }
  },
  "cells": [
    {
      "cell_type": "code",
      "metadata": {
        "id": "ewnTnVP9U5ou",
        "outputId": "f9927b8a-a19d-4fe2-f5a7-3e916a55322a"
      },
      "source": [
        "!pip install dlib"
      ],
      "execution_count": null,
      "outputs": [
        {
          "output_type": "stream",
          "text": [
            "\u001b[33mDEPRECATION: Python 3.5 reached the end of its life on September 13th, 2020. Please upgrade your Python as Python 3.5 is no longer maintained. pip 21.0 will drop support for Python 3.5 in January 2021. pip 21.0 will remove support for this functionality.\u001b[0m\n",
            "Requirement already satisfied: dlib in /usr/local/lib/python3.5/dist-packages (19.21.0)\n"
          ],
          "name": "stdout"
        }
      ]
    },
    {
      "cell_type": "code",
      "metadata": {
        "id": "0rmTuwCMU5pM"
      },
      "source": [
        "import os\n",
        "os.environ[\"CUDA_DEVICE_ORDER\"] = \"PCI_BUS_ID\"\n",
        "os.environ[\"CUDA_VISIBLE_DEVICES\"] = \"1\" "
      ],
      "execution_count": null,
      "outputs": []
    },
    {
      "cell_type": "code",
      "metadata": {
        "id": "HIXKIrNnU5pP"
      },
      "source": [
        "from pathlib import Path\n",
        "import os\n",
        "import cv2\n",
        "from matplotlib import pyplot as plt\n",
        "import numpy as np\n",
        "from tqdm import tqdm\n",
        "import shutil\n",
        "import time\n",
        "import dlib\n",
        "from random import shuffle"
      ],
      "execution_count": null,
      "outputs": []
    },
    {
      "cell_type": "code",
      "metadata": {
        "id": "yUMMfG8DU5pQ"
      },
      "source": [
        "detector = dlib.cnn_face_detection_model_v1(\"mmod_human_face_detector.dat\")"
      ],
      "execution_count": null,
      "outputs": []
    },
    {
      "cell_type": "code",
      "metadata": {
        "id": "NeT_mgt-U5pS"
      },
      "source": [
        "videos_path = '../../raid/Data/videos/google/'"
      ],
      "execution_count": null,
      "outputs": []
    },
    {
      "cell_type": "code",
      "metadata": {
        "id": "3VwUPBgKU5pU"
      },
      "source": [
        "output_path = 'multiframe_full/'"
      ],
      "execution_count": null,
      "outputs": []
    },
    {
      "cell_type": "code",
      "metadata": {
        "id": "99RXXTZMU5pV",
        "outputId": "9ffe22eb-45ed-46fd-bced-bd2256f1af0d"
      },
      "source": [
        "for label in ['real/','fake/']:\n",
        "    print(videos_path+label+': '+str(len([f for f in os.listdir(videos_path+label) if 'mp4' in f])))"
      ],
      "execution_count": null,
      "outputs": [
        {
          "output_type": "stream",
          "text": [
            "../../raid/Data/videos/google/real/: 363\n",
            "../../raid/Data/videos/google/fake/: 3074\n"
          ],
          "name": "stdout"
        }
      ]
    },
    {
      "cell_type": "code",
      "metadata": {
        "id": "KHEVx7VvU5pW"
      },
      "source": [
        "for label in ['real/','fake/']:\n",
        "    Path(output_path+label).mkdir(parents=True, exist_ok=True)"
      ],
      "execution_count": null,
      "outputs": []
    },
    {
      "cell_type": "code",
      "metadata": {
        "id": "HLhjiHT9U5pY"
      },
      "source": [
        "label = 'fake/'\n",
        "vidpath = videos_path + label\n",
        "folderpath = output_path + label\n",
        "videos = sorted(os.listdir(vidpath))\n",
        "shuffle(videos)\n",
        "videos = videos[:len([f for f in os.listdir(videos_path+'fake/') if 'mp4' in f])]\n",
        "req_frames = 10\n",
        "scale = 1.3\n",
        "req_size = 200"
      ],
      "execution_count": null,
      "outputs": []
    },
    {
      "cell_type": "code",
      "metadata": {
        "id": "GPPptjFDU5pZ"
      },
      "source": [
        "for video in tqdm(videos):\n",
        "    \n",
        "    facepath = folderpath + video[:-4] + '/'\n",
        "    Path(facepath).mkdir(parents=True,exist_ok=True)\n",
        "    video_capture = cv2.VideoCapture(vidpath + video)\n",
        "    count = int(video_capture.get(cv2.CAP_PROP_FRAME_COUNT))\n",
        "    more_than_one = 0\n",
        "    no_faces = 0\n",
        "    out_of_frame = 0\n",
        "    done_frames = 0\n",
        "    img_size = -1\n",
        "    frame_number = 0\n",
        "    \n",
        "    while True:\n",
        "        res, frame = video_capture.read()\n",
        "        if not res:\n",
        "            break\n",
        "        faceRects = detector(frame[:,:,::-1], 0)\n",
        "        if (len(faceRects)==0):\n",
        "            no_faces += 1\n",
        "            continue\n",
        "        if (len(faceRects)>1):\n",
        "            more_than_one += 1\n",
        "            continue\n",
        "        x1 = faceRects[0].rect.left()\n",
        "        y1 = faceRects[0].rect.top()\n",
        "        x2 = faceRects[0].rect.right()\n",
        "        y2 = faceRects[0].rect.bottom()\n",
        "        center = ((x1 + x2) // 2, (y1 + y2) // 2)\n",
        "        length = max(x2 - x1, y2 - y1)\n",
        "        x1 = center[0] - int(length*scale/2)\n",
        "        x2 = center[0] + int(length*scale/2)\n",
        "        y1 = center[1] - int(length*scale/2)\n",
        "        y2 = center[1] + int(length*scale/2)\n",
        "        if x1 < 0 or y1 < 0 or x2 > frame.shape[1] or y2 > frame.shape[0]:\n",
        "            out_of_frame += 1\n",
        "            continue\n",
        "        final=frame[y1:y2,x1:x2,::-1]\n",
        "        # Either resize images now or resize them during training\n",
        "        # final = cv2.resize(final,(req_size,req_size),interpolation = cv2.INTER_CUBIC)\n",
        "        plt.imsave(facepath+str(frame_number).zfill(2)+'.jpg',final)\n",
        "        frame_number += 1\n",
        "        done_frames += 1\n",
        "        if done_frames == 10:\n",
        "            img_size = y2-y1\n",
        "            break\n",
        "    video_capture.release()\n",
        "    if(len(os.listdir(facepath))==0):\n",
        "        os.rmdir(facepath)\n",
        "             "
      ],
      "execution_count": null,
      "outputs": []
    }
  ]
}