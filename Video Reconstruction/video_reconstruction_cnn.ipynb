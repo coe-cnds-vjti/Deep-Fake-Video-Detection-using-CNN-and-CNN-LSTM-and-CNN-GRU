{
  "nbformat": 4,
  "nbformat_minor": 0,
  "metadata": {
    "kernelspec": {
      "display_name": "Python 3",
      "language": "python",
      "name": "python3"
    },
    "language_info": {
      "codemirror_mode": {
        "name": "ipython",
        "version": 3
      },
      "file_extension": ".py",
      "mimetype": "text/x-python",
      "name": "python",
      "nbconvert_exporter": "python",
      "pygments_lexer": "ipython3",
      "version": "3.5.2"
    },
    "colab": {
      "name": "video_reconstruction_cnn-TOM CRUISE (2) (1).ipynb",
      "provenance": [],
      "collapsed_sections": []
    }
  },
  "cells": [
    {
      "cell_type": "code",
      "metadata": {
        "id": "EqxM3DL8RNwd",
        "outputId": "e1f9ef77-a6c8-4f42-c953-aea3e6dfc155"
      },
      "source": [
        "!pip install --upgrade pip"
      ],
      "execution_count": null,
      "outputs": [
        {
          "output_type": "stream",
          "text": [
            "\u001b[33mDEPRECATION: Python 3.5 reached the end of its life on September 13th, 2020. Please upgrade your Python as Python 3.5 is no longer maintained. pip 21.0 will drop support for Python 3.5 in January 2021. pip 21.0 will remove support for this functionality.\u001b[0m\n",
            "Requirement already satisfied: pip in /usr/local/lib/python3.5/dist-packages (20.3.4)\n",
            "Collecting pip\n",
            "  Using cached pip-20.3.4-py2.py3-none-any.whl (1.5 MB)\n",
            "  Using cached pip-20.3.3-py2.py3-none-any.whl (1.5 MB)\n"
          ],
          "name": "stdout"
        }
      ]
    },
    {
      "cell_type": "code",
      "metadata": {
        "id": "VTAGbIKzRNwq",
        "outputId": "7ef5bc1e-11ae-4708-9570-8e34d56e1ba1"
      },
      "source": [
        "!pip install tensorflow"
      ],
      "execution_count": null,
      "outputs": [
        {
          "output_type": "stream",
          "text": [
            "\u001b[33mDEPRECATION: Python 3.5 reached the end of its life on September 13th, 2020. Please upgrade your Python as Python 3.5 is no longer maintained. pip 21.0 will drop support for Python 3.5 in January 2021. pip 21.0 will remove support for this functionality.\u001b[0m\n",
            "Requirement already satisfied: tensorflow in /usr/local/lib/python3.5/dist-packages (2.3.1)\n",
            "Requirement already satisfied: gast==0.3.3 in /usr/local/lib/python3.5/dist-packages (from tensorflow) (0.3.3)\n",
            "Requirement already satisfied: wheel>=0.26 in /usr/local/lib/python3.5/dist-packages (from tensorflow) (0.33.4)\n",
            "Requirement already satisfied: tensorboard<3,>=2.3.0 in /usr/local/lib/python3.5/dist-packages (from tensorflow) (2.4.1)\n",
            "Requirement already satisfied: keras-preprocessing<1.2,>=1.1.1 in /usr/local/lib/python3.5/dist-packages (from tensorflow) (1.1.2)\n",
            "Requirement already satisfied: absl-py>=0.7.0 in /usr/local/lib/python3.5/dist-packages (from tensorflow) (0.7.1)\n",
            "Requirement already satisfied: opt-einsum>=2.3.2 in /usr/local/lib/python3.5/dist-packages (from tensorflow) (3.3.0)\n",
            "Requirement already satisfied: tensorflow-estimator<2.4.0,>=2.3.0 in /usr/local/lib/python3.5/dist-packages (from tensorflow) (2.3.0)\n",
            "Requirement already satisfied: h5py<2.11.0,>=2.10.0 in /usr/local/lib/python3.5/dist-packages (from tensorflow) (2.10.0)\n",
            "Requirement already satisfied: wrapt>=1.11.1 in /usr/local/lib/python3.5/dist-packages (from tensorflow) (1.12.1)\n",
            "Requirement already satisfied: six>=1.12.0 in /usr/local/lib/python3.5/dist-packages (from tensorflow) (1.12.0)\n",
            "Requirement already satisfied: astunparse==1.6.3 in /usr/local/lib/python3.5/dist-packages (from tensorflow) (1.6.3)\n",
            "Requirement already satisfied: numpy<1.19.0,>=1.16.0 in /usr/local/lib/python3.5/dist-packages (from tensorflow) (1.18.5)\n",
            "Requirement already satisfied: termcolor>=1.1.0 in /usr/local/lib/python3.5/dist-packages (from tensorflow) (1.1.0)\n",
            "Requirement already satisfied: grpcio>=1.8.6 in /usr/local/lib/python3.5/dist-packages (from tensorflow) (1.36.1)\n",
            "Requirement already satisfied: google-pasta>=0.1.8 in /usr/local/lib/python3.5/dist-packages (from tensorflow) (0.2.0)\n",
            "Requirement already satisfied: protobuf>=3.9.2 in /usr/local/lib/python3.5/dist-packages (from tensorflow) (3.15.5)\n",
            "Requirement already satisfied: requests<3,>=2.21.0 in /usr/local/lib/python3.5/dist-packages (from tensorboard<3,>=2.3.0->tensorflow) (2.25.1)\n",
            "Requirement already satisfied: google-auth<2,>=1.6.3 in /usr/local/lib/python3.5/dist-packages (from tensorboard<3,>=2.3.0->tensorflow) (1.23.0)\n",
            "Requirement already satisfied: tensorboard-plugin-wit>=1.6.0 in /usr/local/lib/python3.5/dist-packages (from tensorboard<3,>=2.3.0->tensorflow) (1.8.0)\n",
            "Requirement already satisfied: markdown>=2.6.8 in /usr/local/lib/python3.5/dist-packages (from tensorboard<3,>=2.3.0->tensorflow) (3.1.1)\n",
            "Requirement already satisfied: werkzeug>=0.11.15 in /usr/local/lib/python3.5/dist-packages (from tensorboard<3,>=2.3.0->tensorflow) (0.15.4)\n",
            "Requirement already satisfied: google-auth-oauthlib<0.5,>=0.4.1 in /usr/local/lib/python3.5/dist-packages (from tensorboard<3,>=2.3.0->tensorflow) (0.4.1)\n",
            "Requirement already satisfied: setuptools>=41.0.0 in /usr/local/lib/python3.5/dist-packages (from tensorboard<3,>=2.3.0->tensorflow) (41.0.1)\n",
            "Requirement already satisfied: pyasn1-modules>=0.2.1 in /usr/local/lib/python3.5/dist-packages (from google-auth<2,>=1.6.3->tensorboard<3,>=2.3.0->tensorflow) (0.2.8)\n",
            "Requirement already satisfied: cachetools<5.0,>=2.0.0 in /usr/local/lib/python3.5/dist-packages (from google-auth<2,>=1.6.3->tensorboard<3,>=2.3.0->tensorflow) (4.2.1)\n",
            "Requirement already satisfied: rsa<5,>=3.1.4 in /usr/local/lib/python3.5/dist-packages (from google-auth<2,>=1.6.3->tensorboard<3,>=2.3.0->tensorflow) (4.7.2)\n",
            "Requirement already satisfied: requests-oauthlib>=0.7.0 in /usr/local/lib/python3.5/dist-packages (from google-auth-oauthlib<0.5,>=0.4.1->tensorboard<3,>=2.3.0->tensorflow) (1.3.0)\n",
            "Requirement already satisfied: pyasn1<0.5.0,>=0.4.6 in /usr/local/lib/python3.5/dist-packages (from pyasn1-modules>=0.2.1->google-auth<2,>=1.6.3->tensorboard<3,>=2.3.0->tensorflow) (0.4.8)\n",
            "Requirement already satisfied: chardet<5,>=3.0.2 in /usr/local/lib/python3.5/dist-packages (from requests<3,>=2.21.0->tensorboard<3,>=2.3.0->tensorflow) (4.0.0)\n",
            "Requirement already satisfied: idna<3,>=2.5 in /usr/local/lib/python3.5/dist-packages (from requests<3,>=2.21.0->tensorboard<3,>=2.3.0->tensorflow) (2.10)\n",
            "Requirement already satisfied: urllib3<1.27,>=1.21.1 in /usr/local/lib/python3.5/dist-packages (from requests<3,>=2.21.0->tensorboard<3,>=2.3.0->tensorflow) (1.26.3)\n",
            "Requirement already satisfied: certifi>=2017.4.17 in /usr/local/lib/python3.5/dist-packages (from requests<3,>=2.21.0->tensorboard<3,>=2.3.0->tensorflow) (2020.12.5)\n",
            "Requirement already satisfied: oauthlib>=3.0.0 in /usr/local/lib/python3.5/dist-packages (from requests-oauthlib>=0.7.0->google-auth-oauthlib<0.5,>=0.4.1->tensorboard<3,>=2.3.0->tensorflow) (3.1.0)\n"
          ],
          "name": "stdout"
        }
      ]
    },
    {
      "cell_type": "code",
      "metadata": {
        "id": "20BE_dYgRNws",
        "outputId": "0c1e7b14-0257-4a01-a0ce-3f6a0087cbf1"
      },
      "source": [
        "!pip install dlib"
      ],
      "execution_count": null,
      "outputs": [
        {
          "output_type": "stream",
          "text": [
            "\u001b[33mDEPRECATION: Python 3.5 reached the end of its life on September 13th, 2020. Please upgrade your Python as Python 3.5 is no longer maintained. pip 21.0 will drop support for Python 3.5 in January 2021. pip 21.0 will remove support for this functionality.\u001b[0m\n",
            "Requirement already satisfied: dlib in /usr/local/lib/python3.5/dist-packages (19.21.1)\n"
          ],
          "name": "stdout"
        }
      ]
    },
    {
      "cell_type": "code",
      "metadata": {
        "id": "6JNz1C5oRNwt"
      },
      "source": [
        "num_images = 2054\n",
        "import cv2\n",
        "import os \n",
        "import dlib\n",
        "import numpy as np\n",
        "p = \"../mmod_human_face_detector.dat\"\n",
        "cnn_face_detector = dlib.cnn_face_detection_model_v1(p)\n",
        "from pathlib import Path\n",
        "import pandas as pd\n",
        "import os\n",
        "from random import shuffle\n",
        "from tqdm import tqdm_notebook\n",
        "import itertools\n",
        "import shutil\n",
        "from matplotlib import pyplot as plt\n",
        "import numpy as np\n",
        "from tensorflow.keras.preprocessing.image import ImageDataGenerator\n",
        "from tensorflow.keras import layers, models\n",
        "from tensorflow.keras.optimizers import Adam\n",
        "from tensorflow.keras.callbacks import ModelCheckpoint, EarlyStopping, ReduceLROnPlateau, Callback\n",
        "from tensorflow.keras.models import load_model\n",
        "from tensorflow.keras.mixed_precision import experimental as mixed_precision\n",
        "policy = mixed_precision.Policy('mixed_float16')#made change\n",
        "mixed_precision.set_policy(policy)"
      ],
      "execution_count": null,
      "outputs": []
    },
    {
      "cell_type": "code",
      "metadata": {
        "id": "gsl4XFm6RNwu",
        "outputId": "816ff29e-6f32-4607-c552-2b85bb80da33"
      },
      "source": [
        "import tensorflow as tf\n",
        "gpus=tf.config.experimental.list_physical_devices('GPU')\n",
        "if gpus:\n",
        "    try:\n",
        "        for gpu in gpus:\n",
        "            tf.config.experimental.set_memory_growth(gpu,True)\n",
        "    except RuntimeError as e:\n",
        "        print(e)"
      ],
      "execution_count": null,
      "outputs": [
        {
          "output_type": "stream",
          "text": [
            "Physical devices cannot be modified after being initialized\n"
          ],
          "name": "stdout"
        }
      ]
    },
    {
      "cell_type": "code",
      "metadata": {
        "id": "lHKLoSfXRNwv"
      },
      "source": [
        "def get_input(folder):\n",
        "    images = np.zeros((num_images,128,128,3), dtype = np.float32)\n",
        "    imagespath = range(0,2054)\n",
        "    for i in range(num_images):\n",
        "        a= str(imagespath[i]).zfill(2)\n",
        "        img = cv2.resize(plt.imread(folder+a+'.jpg'), (128, 128), interpolation=cv2.INTER_CUBIC)/255\n",
        "        print(a)\n",
        "        images[i] = img\n",
        "        \n",
        "    return [images]"
      ],
      "execution_count": null,
      "outputs": []
    },
    {
      "cell_type": "code",
      "metadata": {
        "id": "qWEJnykiRNwv"
      },
      "source": [
        "model_path = 'models/CNN50_Tom_Cruise/'\n",
        "attempt = 0\n",
        "foldername = model_path+\"_xceptionimagenet_attempt\"+str(attempt)+\"/\"\n",
        "img_size = 128\n",
        "modelname = foldername+\"_xceptionimagenet_\"+str(num_images)+\"_\"+str(img_size)\n",
        "cnn_model = load_model(modelname+\".h5\")"
      ],
      "execution_count": null,
      "outputs": []
    },
    {
      "cell_type": "code",
      "metadata": {
        "id": "DqCZanjWRNww"
      },
      "source": [
        "test_folder=\"../Tom_Cruise_Dataset/Tom_Cruise_dataset_two_faces/testing/real/TOM CRUISE 2020 Deepfake  VFX Breakdown  Side by Side_1080p_Trim/\"\n",
        "batch_input = get_input(test_folder)\n",
        "batch_x = np.array(batch_input)\n",
        "probr = cnn_model.predict(batch_x)"
      ],
      "execution_count": null,
      "outputs": []
    },
    {
      "cell_type": "code",
      "metadata": {
        "id": "47-UsnNSRNwx"
      },
      "source": [
        "test_folder=\"../Tom_Cruise_Dataset/Tom_Cruise_dataset_two_faces/testing/fake/TOM CRUISE 2020 Deepfake  VFX Breakdown  Side by Side_1080p_Trim/\"\n",
        "\n",
        "batch_input = get_input(test_folder)\n",
        "batch_x = np.array(batch_input)\n",
        "probf = cnn_model.predict(batch_x)"
      ],
      "execution_count": null,
      "outputs": []
    },
    {
      "cell_type": "code",
      "metadata": {
        "id": "-dSairpkRNwy"
      },
      "source": [
        "model_path = 'models/CNN100/Tom_Cruise/tom_cruise'\n",
        "attempt = 0\n",
        "foldername = model_path+\"_xceptionimagenet_attempt\"+str(attempt)+\"/\"\n",
        "img_size = 128\n",
        "modelname = foldername+\"_xceptionimagenet_\"+str(num_images)+\"_\"+str(img_size)\n",
        "cnn_model = load_model(modelname+\".h5\")"
      ],
      "execution_count": null,
      "outputs": []
    },
    {
      "cell_type": "code",
      "metadata": {
        "id": "9P31GVZGRNwz"
      },
      "source": [
        "test_folder=\"../Tom_Cruise_Dataset/Tom_Cruise_dataset_two_faces/testing/real/TOM CRUISE 2020 Deepfake  VFX Breakdown  Side by Side_1080p_Trim/\"\n",
        "batch_input = get_input(test_folder)\n",
        "batch_x = np.array(batch_input)\n",
        "probr1 = cnn_model.predict(batch_x)\n",
        "test_folder=\"../Tom_Cruise_Dataset/Tom_Cruise_dataset_two_faces/testing/fake/TOM CRUISE 2020 Deepfake  VFX Breakdown  Side by Side_1080p_Trim/\"\n",
        "batch_input = get_input(test_folder)\n",
        "batch_x = np.array(batch_input)\n",
        "probf1 = cnn_model.predict(batch_x)"
      ],
      "execution_count": null,
      "outputs": []
    },
    {
      "cell_type": "code",
      "metadata": {
        "id": "KqDp9J3gRNw0"
      },
      "source": [
        "print(\"cnn 50\")\n",
        "print(\"real\")\n",
        "f = [f for f in range(0,2054) if probr[0,f,0]<0.5]\n",
        "print(len(f))\n",
        "print(\"fake\")\n",
        "f = [f for f in range(0,2054) if probf[0,f,0]>=0.5]\n",
        "print(len(f))"
      ],
      "execution_count": null,
      "outputs": []
    },
    {
      "cell_type": "code",
      "metadata": {
        "id": "Q0lrNQF2RNw1"
      },
      "source": [
        "print(\"cnn 100\")\n",
        "print(\"real\")\n",
        "f = [f for f in range(0,2054) if probr1[0,f,0]<0.6]\n",
        "print(len(f))\n",
        "print(\"fake\")\n",
        "f = [f for f in range(0,2054) if probf1[0,f,0]>=0.6]\n",
        "print(len(f))"
      ],
      "execution_count": null,
      "outputs": []
    },
    {
      "cell_type": "code",
      "metadata": {
        "id": "FT35wwFSRNw1"
      },
      "source": [
        "for i in range(1):\n",
        "    try:\n",
        "        vidcap = cv2.VideoCapture('../Tom_Cruise/TOM CRUISE 2020 Deepfake VFX Breakdown Side by Side_1080p_Trim.mp4')\n",
        "        success,image = vidcap.read()\n",
        "        count = 0\n",
        "        success = True\n",
        "        frames_path=\"../Tom_Cruise/Completeframe/TOM_CRUISE_2020_Deepfake_VFX_Breakdown_Side_by_Side_1080p_Trim/\"\n",
        "        print(\"NOW FRAMING\")\n",
        "        imagespath = range(0,2241)\n",
        "        kr=0\n",
        "        kf=0\n",
        "        prediction_folder_path='Tom_Cruise/Reconstructed/frames1/'\n",
        "        Path(prediction_folder_path).mkdir(parents=True, exist_ok = True)\n",
        "        real_count_real=0\n",
        "        fake_count_real=0\n",
        "        real_count_fake=0\n",
        "        fake_count_fake=0\n",
        "        print(\"NOW DETECTING\")\n",
        "        m=0\n",
        "        #Perform face detection\n",
        "        for it in range(0,2241):\n",
        "            #try:\n",
        "            a= str(imagespath[it]).zfill(4)\n",
        "            image=cv2.imread(frames_path+a+'.jpg')\n",
        "            \n",
        "            if image is None:\n",
        "                print(\"Could not read input image\")\n",
        "                continue\n",
        "\n",
        "            faces_cnn = cnn_face_detector(image[:,:,::-1],0)\n",
        "            \n",
        "            if(len(faces_cnn)!=2):\n",
        "                print(\"Total Faces =     \" ,len(faces_cnn))\n",
        "                cv2.imwrite(prediction_folder_path+a+'.jpg',image)\n",
        "                continue\n",
        "            else:\n",
        "                odd=1\n",
        "                for face in faces_cnn:\n",
        "                    \n",
        "                    x = face.rect.left()\n",
        "                    y = face.rect.top()\n",
        "                    w= face.rect.right() - x\n",
        "                    h= face.rect.bottom() - y \n",
        "                    y1 =y-50\n",
        "                    y2= y+h+30\n",
        "                    x1=x-15\n",
        "                    x2=x+w+50\n",
        "                    \n",
        "                    if odd==1:\n",
        "                        odd=0\n",
        "                        result=probr1[0,kr,0]\n",
        "                        kr+=1\n",
        "                        if(kr==2054):\n",
        "                            print(a)\n",
        "                        if(result<0.5):\n",
        "                            print(\"real\")\n",
        "                            cv2.rectangle(image, (x1,y1), (x2,y2), (0,255,0), 2)\n",
        "                            cv2.putText(image, 'REAL:'+str(result), (30, 250), cv2.FONT_HERSHEY_TRIPLEX, 1.5, (35,102,11), thickness=2,lineType=cv2.LINE_AA) \n",
        "                            real_count_real+=1\n",
        "                            \n",
        "                        else:\n",
        "                            print(\"fake\")\n",
        "                            cv2.rectangle(image, (x1,y1), (x2,y2), (0,0,255), 2)\n",
        "                            cv2.putText(image, 'FAKE:'+str(result), (30, 250), cv2.FONT_HERSHEY_TRIPLEX, 1.5, (0,0,255), thickness=2,lineType=cv2.LINE_AA) \n",
        "                            fake_count_real+=1\n",
        "                        real_count= real_count_real\n",
        "                        fake_count= fake_count_real\n",
        "                        cv2.putText(image, 'REAL:'+str(real_count), (30, 400), cv2.FONT_HERSHEY_TRIPLEX, 1.5, (35,102,11),thickness=2, lineType=cv2.LINE_AA) \n",
        "                        cv2.putText(image, 'FAKE:'+str(fake_count), (30, 450), cv2.FONT_HERSHEY_TRIPLEX, 1.5, (0,0,255), thickness=2,lineType=cv2.LINE_AA) \n",
        "                        cv2.imwrite(prediction_folder_path+a+'.jpg',image)\n",
        "                        \n",
        "                    else:\n",
        "                        odd=1\n",
        "                        result=probf1[0,kf,0]\n",
        "                        kf+=1\n",
        "                        if(kf==2054):\n",
        "                            print(a)\n",
        "                        if(result<0.5):\n",
        "                            print(\"real\")\n",
        "                            cv2.rectangle(image, (x1,y1), (x2,y2), (0,255,0), 2)\n",
        "                            cv2.putText(image, 'REAL:'+str(result), (1600, 250), cv2.FONT_HERSHEY_TRIPLEX, 1.5, (35,102,11), thickness=2,lineType=cv2.LINE_AA) \n",
        "                            real_count_fake+=1\n",
        "                            \n",
        "                        else:\n",
        "                            print(\"fake\")\n",
        "                            cv2.rectangle(image, (x1,y1), (x2,y2), (0,0,255), 2)\n",
        "                            cv2.putText(image, 'FAKE:'+str(result), (1600, 250), cv2.FONT_HERSHEY_TRIPLEX, 1.5, (0,0,255), thickness=2,lineType=cv2.LINE_AA) \n",
        "                            fake_count_fake+=1\n",
        "                        real_count= real_count_fake\n",
        "                        fake_count= fake_count_fake\n",
        "                        cv2.putText(image, 'REAL:'+str(real_count), (1600, 400), cv2.FONT_HERSHEY_TRIPLEX, 1.5, (35,102,11),thickness=2, lineType=cv2.LINE_AA) \n",
        "                        cv2.putText(image, 'FAKE:'+str(fake_count), (1600, 450), cv2.FONT_HERSHEY_TRIPLEX, 1.5, (0,0,255), thickness=2,lineType=cv2.LINE_AA) \n",
        "                        cv2.imwrite(prediction_folder_path+a+'.jpg',image)\n",
        "                print(it)\n",
        "        img_array = []\n",
        "        for j in range(num_images):\n",
        "            \n",
        "            a= str(imagespath[j]).zfill(4)\n",
        "            \n",
        "            try:    \n",
        "                img = cv2.imread(prediction_folder_path+a+'.jpg')\n",
        "                height, width, layers = img.shape\n",
        "                size = (width,height)\n",
        "                img_array.append(img)\n",
        "            except:\n",
        "                continue\n",
        "        print(\"NOW RECONSTRUCTING\")\n",
        "        save_path='Tom_Cruise/Reconstructed/rvideo/'\n",
        "        Path(save_path).mkdir(parents=True, exist_ok = True)\n",
        "        out = cv2.VideoWriter(save_path+'Tom_Cruise_video'+'.mp4',cv2.VideoWriter_fourcc(*'MP4V'), 30, size)\n",
        "\n",
        "        for i in range(len(img_array)):\n",
        "            out.write(img_array[i])\n",
        "        out.release()\n",
        "        print(\"VIDEO COMPLETED:\")\n",
        "        \n",
        "    except Exception as e:\n",
        "        print(e)\n",
        "        continue"
      ],
      "execution_count": null,
      "outputs": []
    },
    {
      "cell_type": "code",
      "metadata": {
        "id": "JXlMK5tQRNw-"
      },
      "source": [
        "frames_path=\"../Tom_Cruise/Completeframe/TOM_CRUISE_2020_Deepfake_VFX_Breakdown_Side_by_Side_1080p_Trim/\"\n",
        "count=0        \n",
        "for it in range(0,2241):\n",
        "    #try:\n",
        "    a= str(imagespath[it]).zfill(4)\n",
        "    image=cv2.imread(frames_path+a+'.jpg')\n",
        "\n",
        "    if image is None:\n",
        "        print(\"Could not read input image\")\n",
        "        continue\n",
        "\n",
        "    faces_cnn = cnn_face_detector(image[:,:,::-1],0)\n",
        "\n",
        "    if(len(faces_cnn)!=2):\n",
        "        print(\"Total Faces =     \" ,len(faces_cnn))\n",
        "        cv2.imwrite(prediction_folder_path+a+'.jpg',image)\n",
        "        continue\n",
        "    else:\n",
        "        count+=1\n",
        "print(count)"
      ],
      "execution_count": null,
      "outputs": []
    },
    {
      "cell_type": "code",
      "metadata": {
        "id": "gaYvRGPnRNxB"
      },
      "source": [
        "img_array = []\n",
        "for j in range(2241):\n",
        "\n",
        "    a= str(imagespath[j]).zfill(4)\n",
        "\n",
        "    try:    \n",
        "        img = cv2.imread(prediction_folder_path+a+'.jpg')\n",
        "        height, width, layers = img.shape\n",
        "        height, width, layers = img.shape\n",
        "        size = (width,height)\n",
        "        img_array.append(img)\n",
        "    except:\n",
        "        print(a)\n",
        "        continue\n",
        "print(\"NOW RECONSTRUCTING\")\n",
        "save_path='Tom_Cruise/Reconstructed/rvideo/'\n",
        "Path(save_path).mkdir(parents=True, exist_ok = True)\n",
        "out = cv2.VideoWriter(save_path+'fake_video1'+'.mp4',cv2.VideoWriter_fourcc(*'MP4V'), 30, size)\n",
        "\n",
        "for i in range(len(img_array)):\n",
        "    out.write(img_array[i])\n",
        "out.release()\n",
        "print(\"VIDEO COMPLETED:\")"
      ],
      "execution_count": null,
      "outputs": []
    },
    {
      "cell_type": "code",
      "metadata": {
        "id": "WJQl9CFFRNxD"
      },
      "source": [
        "for i in range(1):\n",
        "    try:\n",
        "        vidcap = cv2.VideoCapture('../Tom_Cruise/TOM CRUISE 2020 Deepfake VFX Breakdown Side by Side_1080p_Trim.mp4')\n",
        "        success,image = vidcap.read()\n",
        "        count = 0\n",
        "        success = True\n",
        "        frames_path=\"../Tom_Cruise/Completeframe/TOM_CRUISE_2020_Deepfake_VFX_Breakdown_Side_by_Side_1080p_Trim/\"\n",
        "        print(\"NOW FRAMING\")\n",
        "        imagespath = range(0,10)\n",
        "        kr=0\n",
        "        kf=0\n",
        "        prediction_folder_path='Tom_Cruise/Reconstructed/frames/'\n",
        "        Path(prediction_folder_path).mkdir(parents=True, exist_ok = True)\n",
        "        real_count_real=0\n",
        "        fake_count_real=0\n",
        "        real_count_fake=0\n",
        "        fake_count_fake=0\n",
        "        print(\"NOW DETECTING\")\n",
        "        m=0\n",
        "        #Perform face detection\n",
        "        for it in range(0,10):\n",
        "            #try:\n",
        "            a= str(imagespath[it]).zfill(4)\n",
        "            image=cv2.imread(frames_path+a+'.jpg')\n",
        "            \n",
        "            if image is None:\n",
        "                print(\"Could not read input image\")\n",
        "                continue\n",
        "\n",
        "            faces_cnn = cnn_face_detector(image[:,:,::-1],0)\n",
        "            \n",
        "            if(len(faces_cnn)!=2):\n",
        "                print(\"Total Faces =     \" ,len(faces_cnn))\n",
        "                cv2.imwrite(prediction_folder_path+a+'.jpg',image)\n",
        "                continue\n",
        "            else:\n",
        "                odd=1\n",
        "                for face in faces_cnn:\n",
        "                    \n",
        "                    x = face.rect.left()\n",
        "                    y = face.rect.top()\n",
        "                    w= face.rect.right() - x\n",
        "                    h= face.rect.bottom() - y \n",
        "                    y1 =y-50\n",
        "                    y2= y+h+30\n",
        "                    x1=x-15\n",
        "                    x2=x+w+50\n",
        "                    \n",
        "                    if odd==1:\n",
        "                        odd=0\n",
        "                        result=probr1[0,kr,0]\n",
        "                        kr+=1\n",
        "                        \n",
        "                    else:\n",
        "                        odd=1\n",
        "                        result=probf1[0,kf,0]\n",
        "                        kf+=1\n",
        "                        \n",
        "                    #printing Fake or real on eac frame\n",
        "                    if(result<0.5):\n",
        "                        print(\"hi1\")\n",
        "                        cv2.rectangle(image, (x1,y1), (x2,y2), (0,255,0), 2)\n",
        "                        cv2.putText(image, 'REAL:'+str(result), (700, 100), cv2.FONT_HERSHEY_TRIPLEX, 1.5, (0,255,0), lineType=cv2.LINE_AA) \n",
        "                        if odd ==1:\n",
        "                            real_count_fake+=1\n",
        "                            real_count= real_count_fake\n",
        "                            fake_count= fake_count_fake\n",
        "                        else:\n",
        "                            real_count_real+=1\n",
        "                            real_count= real_count_real\n",
        "                            fake_count= fake_count_real\n",
        "                        cv2.putText(image, 'REAL:'+str(real_count), (700, 500), cv2.FONT_HERSHEY_TRIPLEX, 1.5, (0,255, 0), lineType=cv2.LINE_AA) \n",
        "                        cv2.putText(image, 'FAKE:'+str(fake_count), (700, 550), cv2.FONT_HERSHEY_TRIPLEX, 1.5, (0,0,255), lineType=cv2.LINE_AA) \n",
        "                        cv2.imwrite(prediction_folder_path+a+'.jpg',image)\n",
        "                    else:\n",
        "                        print(\"hi2\")\n",
        "                        cv2.rectangle(image, (x1,y1), (x2,y2), (0,0,255), 2)\n",
        "                        cv2.putText(image, 'FAKE:'+str(result), (100, 100), cv2.FONT_HERSHEY_TRIPLEX, 1.5, (0,0 ,255),lineType=cv2.LINE_AA)\n",
        "                        if odd ==1:\n",
        "                            fake_count_fake+=1\n",
        "                            real_count= real_count_fake\n",
        "                            fake_count= fake_count_fake\n",
        "                        else:\n",
        "                            fake_count_real+=1\n",
        "                            real_count= real_count_real\n",
        "                            fake_count= fake_count_real\n",
        "                        cv2.putText(image, 'REAL:'+str(real_count), (100, 500), cv2.FONT_HERSHEY_TRIPLEX, 1.5, (0,255, 0), lineType=cv2.LINE_AA)\n",
        "                        cv2.putText(image, 'FAKE:'+str(fake_count), (100, 550), cv2.FONT_HERSHEY_TRIPLEX, 1.5, (0,0,255), lineType=cv2.LINE_AA) \n",
        "                        cv2.imwrite(prediction_folder_path+a+'.jpg',image)\n",
        "                print(it)\n",
        "        img_array = []\n",
        "        for j in range(num_images):\n",
        "            \n",
        "            a= str(imagespath[j]).zfill(4)\n",
        "            \n",
        "            try:    \n",
        "                img = cv2.imread(prediction_folder_path+a+'.jpg')\n",
        "                height, width, layers = img.shape\n",
        "                height, width, layers = img.shape\n",
        "                size = (width,height)\n",
        "                img_array.append(img)\n",
        "            except:\n",
        "                continue\n",
        "        print(\"NOW RECONSTRUCTING\")\n",
        "        save_path='Tom_Cruise/Reconstructed/rvideo/'\n",
        "        Path(save_path).mkdir(parents=True, exist_ok = True)\n",
        "        out = cv2.VideoWriter(save_path+'fake_video'+'.mp4',cv2.VideoWriter_fourcc(*'MP4V'), 30, size)\n",
        "\n",
        "        for i in range(len(img_array)):\n",
        "            out.write(img_array[i])\n",
        "        out.release()\n",
        "        print(\"VIDEO COMPLETED:\")\n",
        "        \n",
        "    except Exception as e:\n",
        "        print(e)\n",
        "        continue"
      ],
      "execution_count": null,
      "outputs": []
    }
  ]
}
