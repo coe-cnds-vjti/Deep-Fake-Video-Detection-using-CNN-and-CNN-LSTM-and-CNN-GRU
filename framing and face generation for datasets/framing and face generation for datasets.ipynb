{
 "cells": [
  {
   "cell_type": "code",
   "execution_count": 2,
   "metadata": {
    "colab": {
     "base_uri": "https://localhost:8080/",
     "height": 35
    },
    "colab_type": "code",
    "executionInfo": {
     "elapsed": 5056,
     "status": "ok",
     "timestamp": 1561919672504,
     "user": {
      "displayName": "new guy",
      "photoUrl": "",
      "userId": "03120160726989926836"
     },
     "user_tz": -330
    },
    "id": "tk28xpFxnAqa",
    "outputId": "526d266c-5750-42ff-af3b-67bb20b4596c"
   },
   "outputs": [],
   "source": [
    "from tensorflow.keras.backend import set_session\n",
    "import tensorflow as tf\n",
    "config = tf.ConfigProto()\n",
    "config.gpu_options.allow_growth = True  # dynamically grow the memory used on the GPU\n",
    "config.log_device_placement = True  # to log device placement (on which device the operation ran)sess = tf.Session(config=config)set_session(sess)\n",
    "sess = tf.Session(config=config)\n",
    "set_session(sess) "
   ]
  },
  {
   "cell_type": "code",
   "execution_count": 3,
   "metadata": {},
   "outputs": [
    {
     "name": "stdout",
     "output_type": "stream",
     "text": [
      "Requirement already satisfied: dlib in /usr/local/lib/python3.5/dist-packages (19.19.0)\n",
      "\u001b[33mWARNING: You are using pip version 19.1.1, however version 19.3.1 is available.\n",
      "You should consider upgrading via the 'pip install --upgrade pip' command.\u001b[0m\n"
     ]
    }
   ],
   "source": [
    "!pip install dlib"
   ]
  },
  {
   "cell_type": "code",
   "execution_count": 4,
   "metadata": {},
   "outputs": [],
   "source": [
    "path_of_video_files = \"/raid/Data/google/\"\n",
    "#path_of_metadata = \"/home/vision/Master_Dataset/metadata/\""
   ]
  },
  {
   "cell_type": "code",
   "execution_count": 1,
   "metadata": {
    "scrolled": false
   },
   "outputs": [],
   "source": [
    "import os\n",
    "google_videos=os.listdir(path_of_video_files)\n",
    "#dfdc_metadata=os.listdir(path_of_metadata)\n",
    "google_videos.sort()\n",
    "google_videos=google_videos[0:]\n",
    "#dfdc_metadata.sort()\n",
    "#dfdc_videos=dfdc_videos[1:]\n",
    "#dfdc_metadata=dfdc_metadata[1]\n",
    "print(google_videos)\n",
    "#print(dfdc_metadata)"
   ]
  },
  {
   "cell_type": "code",
   "execution_count": 6,
   "metadata": {},
   "outputs": [],
   "source": [
    "video_count=0\n",
    "import cv2\n",
    "import os \n",
    "import dlib\n",
    "import numpy as np\n",
    "import json\n",
    "import pandas as pd\n",
    "p = \"mmod_human_face_detector.dat\"\n",
    "cnn_face_detector = dlib.cnn_face_detection_model_v1(p)\n"
   ]
  },
  {
   "cell_type": "code",
   "execution_count": 2,
   "metadata": {
    "scrolled": false
   },
   "outputs": [],
   "source": [
    "video_folder_count=0\n",
    "\n",
    "frame_count=0\n",
    "video_count=0\n",
    "for video_name in google_videos:\n",
    "    try:\n",
    "        \n",
    "        print(\"VIDEO PROCESSED: \"+str(video_count))\n",
    "        if(video_count<=1800):\n",
    "            cap = cv2.VideoCapture(\"/raid/Data/google/\"+video_name)\n",
    "            success = True\n",
    "            count = 0\n",
    "            while success:\n",
    "                success, image = cap.read()\n",
    "                print(\"read a new frame:\", success)\n",
    "                if(success==False):\n",
    "                    video_count+=1\n",
    "                    break\n",
    "                if(count>200):\n",
    "                    faces_cnn = cnn_face_detector(image, 1)\n",
    "                    if(len(faces_cnn)==0):\n",
    "                        print(\"NO FACE\")\n",
    "                        continue\n",
    "                    else:\n",
    "                        for face in faces_cnn:\n",
    "\n",
    "                            x = face.rect.left()\n",
    "                            y = face.rect.top()\n",
    "                            w= face.rect.right() - x\n",
    "                            h= face.rect.bottom() - y\n",
    "                            break\n",
    "                        y1 =y-50\n",
    "                        y2= y+h+30\n",
    "                        x1=x-15\n",
    "                        x2=x+w+50\n",
    "                        image1=image[y1:y2, x1:x2]\n",
    "                        print(\"DLIB DETECTION COMPLETE\")\n",
    "                        cv2.imwrite(\"/raid/Data/Master_Dataset/google/train/fake/\"+str(frame_count)+\"GOOG.jpg\",image1)\n",
    "                \n",
    "                        frame_count+=1\n",
    "                        \n",
    "                        if (count==320):\n",
    "                            print(\"VIDEO NO \"+str(video_count)+\" SAVED\")\n",
    "                            video_count+=1\n",
    "                            break\n",
    "                count+=1\n",
    "                    \n",
    "        elif(video_count>1800 and video_count<2550):\n",
    "            cap = cv2.VideoCapture(\"/raid/Data/google/\"+video_name)\n",
    "            success = True\n",
    "            count = 0\n",
    "            while success:\n",
    "                success, image = cap.read()\n",
    "                print(\"read a new frame:\", success)\n",
    "                if(success==False):\n",
    "                    video_count+=1\n",
    "                    break\n",
    "                if(count>200):\n",
    "                    faces_cnn = cnn_face_detector(image, 1)\n",
    "                    if(len(faces_cnn)==0):\n",
    "                        print(\"NO FACE\")\n",
    "                        continue\n",
    "                    else:\n",
    "                        for face in faces_cnn:\n",
    "\n",
    "                            x = face.rect.left()\n",
    "                            y = face.rect.top()\n",
    "                            w= face.rect.right() - x\n",
    "                            h= face.rect.bottom() - y\n",
    "                            break\n",
    "                        y1 =y-50\n",
    "                        y2= y+h+30\n",
    "                        x1=x-15\n",
    "                        x2=x+w+50\n",
    "                        image1=image[y1:y2, x1:x2]\n",
    "                        print(\"DLIB DETECTION COMPLETE\")\n",
    "                        cv2.imwrite(\"/raid/Data/Master_Dataset/google/validation/fake/\"+str(frame_count)+\"GOOG.jpg\",image1)\n",
    "                \n",
    "                        frame_count+=1\n",
    "                        \n",
    "                        if (count==320):\n",
    "                            print(\"VIDEO NO \"+str(video_count)+\" SAVED\")\n",
    "                            video_count+=1\n",
    "                            break\n",
    "                count+=1\n",
    "        else:\n",
    "            cap = cv2.VideoCapture(\"/raid/Data/google/\"+video_name)\n",
    "            success = True\n",
    "            count = 0\n",
    "            while success:\n",
    "                success, image = cap.read()\n",
    "                print(\"read a new frame:\", success)\n",
    "                if(success==False):\n",
    "                    video_count+=1\n",
    "                    break\n",
    "                if(count>200):\n",
    "                    faces_cnn = cnn_face_detector(image, 1)\n",
    "                    if(len(faces_cnn)==0):\n",
    "                        print(\"NO FACE\")\n",
    "                        continue\n",
    "                    else:\n",
    "                        for face in faces_cnn:\n",
    "\n",
    "                            x = face.rect.left()\n",
    "                            y = face.rect.top()\n",
    "                            w= face.rect.right() - x\n",
    "                            h= face.rect.bottom() - y\n",
    "                            break\n",
    "                        y1 =y-50\n",
    "                        y2= y+h+30\n",
    "                        x1=x-15\n",
    "                        x2=x+w+50\n",
    "                        image1=image[y1:y2, x1:x2]\n",
    "                        print(\"DLIB DETECTION COMPLETE\")\n",
    "                        cv2.imwrite(\"/raid/Data/Master_Dataset/google/test/fake/\"+str(frame_count)+\"GOOG.jpg\",image1)\n",
    "\n",
    "                        frame_count+=1\n",
    "\n",
    "                        if (count==320):\n",
    "                            print(\"VIDEO NO \"+str(video_count)+\" SAVED\")\n",
    "                            video_count+=1\n",
    "                            break\n",
    "                count+=1\n",
    "\n",
    "                    \n",
    "        print(\"VIDEO_FOLDER_PROCESSED_YESSSSSSSSSSSSSSSSSSSSSSSSSSSSSSSSSSSSSSSSSS:\"+str(video_count))\n",
    "        #print(\"VIDEO FOLDER NAME: \"+video_folder_name)\n",
    "        print('CURRENT FRAME COUNT:'+str(frame_count))\n",
    "        #print(\"CURRENT FAKE FRAME COUNT: \"+str(fake_frame_count))\n",
    "        #print(\"CURRENT REAL FRAME COUNT: \"+str(real_frame_count))\n",
    "\n",
    "    #video_folder_count+=1\n",
    "    except Exception as e: \n",
    "        print(e)\n",
    "        continue\n",
    "\n"
   ]
  },
  {
   "cell_type": "code",
   "execution_count": 6,
   "metadata": {},
   "outputs": [
    {
     "name": "stdout",
     "output_type": "stream",
     "text": [
      "1817\n"
     ]
    }
   ],
   "source": [
    "print(video_count)\n"
   ]
  },
  {
   "cell_type": "code",
   "execution_count": 7,
   "metadata": {},
   "outputs": [
    {
     "name": "stdout",
     "output_type": "stream",
     "text": [
      "205847\n"
     ]
    }
   ],
   "source": [
    "print(frame_count)"
   ]
  }
 ],
 "metadata": {
  "accelerator": "GPU",
  "colab": {
   "collapsed_sections": [],
   "name": "InceptionV3Own1Arch2.ipynb",
   "provenance": [],
   "version": "0.3.2"
  },
  "kernelspec": {
   "display_name": "Python 3",
   "language": "python",
   "name": "python3"
  },
  "language_info": {
   "codemirror_mode": {
    "name": "ipython",
    "version": 3
   },
   "file_extension": ".py",
   "mimetype": "text/x-python",
   "name": "python",
   "nbconvert_exporter": "python",
   "pygments_lexer": "ipython3",
   "version": "3.7.3"
  }
 },
 "nbformat": 4,
 "nbformat_minor": 1
}
